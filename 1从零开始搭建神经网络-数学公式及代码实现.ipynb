{
 "cells": [
  {
   "cell_type": "code",
   "execution_count": 1,
   "metadata": {},
   "outputs": [],
   "source": [
    "# 1 激活函数\n",
    "def sigmoid(z):\n",
    "    \"\"\"\n",
    "    sigmoid激活函数\n",
    "    :param z: 输入\n",
    "    :return: sigmoid(z)\n",
    "    \"\"\"\n",
    "    return 1/(1 + np.exp(-z))"
   ]
  },
  {
   "cell_type": "code",
   "execution_count": 2,
   "metadata": {},
   "outputs": [],
   "source": [
    "# 2 初始化参数\n",
    "def initializeParamWithZeros(dim):\n",
    "    \"\"\"\n",
    "    初始化权重和偏置\n",
    "    :param dim: 输入维度\n",
    "    :return: 返回初始化的w和b\n",
    "              w:(dim,1)的向量\n",
    "              b:标量\n",
    "    \"\"\"\n",
    "    w = np.zeros((dim,1))\n",
    "    b = 0\n",
    "    return w,b"
   ]
  },
  {
   "cell_type": "code",
   "execution_count": 4,
   "metadata": {},
   "outputs": [],
   "source": [
    "# BP算法\n",
    "def BackPropagate(w,b,X,Y):\n",
    "    \"\"\"\n",
    "    BP算法\n",
    "    :param w: 权重\n",
    "    :param b: 偏置\n",
    "    :param X: 输入数据\n",
    "    :param Y: 输入标签\n",
    "    :return: 梯度和损失函数\n",
    "    \"\"\"\n",
    "    #输入数据数目\n",
    "    num = Y.shape[0]\n",
    " \n",
    "    #前向传播\n",
    "    A = sigmoid(np.dot(w.T,X) + b)\n",
    "    cost = -1 / num * np.sum(Y * np.log(A) + (1 - Y) * np.log(1 - A))\n",
    " \n",
    "    #反向传播\n",
    "    dw = 1 / num * np.dot(X,(A - Y).T)\n",
    "    db = 1 / num * np.sum(A - Y)\n",
    " \n",
    "    #用字典存储dw和db\n",
    "    gradients = {\"dw\": dw,\n",
    "             \"db\": db}\n",
    "    return gradients,cost"
   ]
  },
  {
   "cell_type": "code",
   "execution_count": 5,
   "metadata": {},
   "outputs": [],
   "source": [
    "# 梯度下降与优化\n",
    "def Optimize(w,b,X,Y,iters,learning_rate):\n",
    "    \"\"\"\n",
    "    :param w: 初始权值\n",
    "    :param b: 初始偏置\n",
    "    :param X: 输入数据\n",
    "    :param Y: 输入数据标签\n",
    "    :param iters: 训练迭代次数\n",
    "    :param learning_rate: 学习速率\n",
    "    :return: 权值w，偏置b，梯度gradients和损失函数cost\n",
    "    \"\"\"\n",
    "    #存储损失函数的值\n",
    "    costs = []\n",
    "    for i in range(iters):\n",
    "        #初始化梯度和损失函数的值\n",
    "        gradients, cost = BackPropagate(w,b,X,Y)\n",
    " \n",
    "        #获取偏导\n",
    "        dw = gradients[\"dw\"]\n",
    "        db = gradients[\"db\"]\n",
    " \n",
    "        #更新参数\n",
    "        w = w - learning_rate * dw\n",
    "        b = b - learning_rate * db\n",
    " \n",
    "        # 记录损失并输出函数\n",
    "        costs.append(cost)\n",
    "        print(\"The cost in the %d th iteration is %f\" %(i,cost))\n",
    " \n",
    "    gradients = {\"dw\": dw,\n",
    "                 \"db\": db}\n",
    "    return w,b,gradients,costs"
   ]
  },
  {
   "cell_type": "code",
   "execution_count": 6,
   "metadata": {},
   "outputs": [],
   "source": [
    "# 预测\n",
    "def predict(w,b,X,Y):\n",
    "    \"\"\"\n",
    "    :param w: 训练后的权值\n",
    "    :param b: 训练后偏置\n",
    "    :param X: 输入数据\n",
    "    :param Y: 输入数据的标签\n",
    "    :return: 预测概率大于0.5的\n",
    "    \"\"\"\n",
    "    #获取输入数目m\n",
    "    m = Y.shape[0]\n",
    "    #存储预测结果\n",
    "    Y_prediction = np.zeros((1,m))\n",
    "    w = w.reshape(X.shape[0], 1)\n",
    "    #神经元输出\n",
    "    A = sigmoid(np.dot(w.T,X) + b)\n",
    " \n",
    "    #开始预测\n",
    "    for i in range(A.shape[0]):\n",
    "        if A[0,i] > 0.5:\n",
    "            Y_prediction[0,i] = 1\n",
    "        else:\n",
    "            Y_prediction[0,i] = 0\n",
    "    return Y_prediction"
   ]
  },
  {
   "cell_type": "code",
   "execution_count": 18,
   "metadata": {},
   "outputs": [
    {
     "data": {
      "image/png": "[encoded data removed]",
      "text/plain": [
       "<Figure size 432x288 with 1 Axes>"
      ]
     },
     "metadata": {
      "needs_background": "light"
     },
     "output_type": "display_data"
    },
    {
     "data": {
      "image/png": "[encoded data removed]",
      "text/plain": [
       "<Figure size 432x288 with 1 Axes>"
      ]
     },
     "metadata": {
      "needs_background": "light"
     },
     "output_type": "display_data"
    },
    {
     "name": "stdout",
     "output_type": "stream",
     "text": [
      "The cost in the 0 th iteration is 5.545177\n",
      "The cost in the 1 th iteration is 4.508631\n",
      "The cost in the 2 th iteration is 3.778488\n",
      "The cost in the 3 th iteration is 3.251258\n",
      "The cost in the 4 th iteration is 2.858391\n",
      "The cost in the 5 th iteration is 2.556472\n",
      "The cost in the 6 th iteration is 2.317958\n",
      "The cost in the 7 th iteration is 2.125002\n",
      "The cost in the 8 th iteration is 1.965707\n",
      "The cost in the 9 th iteration is 1.831916\n",
      "The cost in the 10 th iteration is 1.717881\n",
      "The cost in the 11 th iteration is 1.619448\n",
      "The cost in the 12 th iteration is 1.533547\n",
      "The cost in the 13 th iteration is 1.457865\n",
      "The cost in the 14 th iteration is 1.390625\n",
      "The cost in the 15 th iteration is 1.330445\n",
      "The cost in the 16 th iteration is 1.276226\n",
      "The cost in the 17 th iteration is 1.227092\n",
      "The cost in the 18 th iteration is 1.182330\n",
      "The cost in the 19 th iteration is 1.141356\n",
      "The cost in the 20 th iteration is 1.103689\n",
      "The cost in the 21 th iteration is 1.068924\n",
      "The cost in the 22 th iteration is 1.036723\n",
      "The cost in the 23 th iteration is 1.006798\n",
      "The cost in the 24 th iteration is 0.978905\n",
      "The cost in the 25 th iteration is 0.952831\n",
      "The cost in the 26 th iteration is 0.928396\n",
      "The cost in the 27 th iteration is 0.905441\n",
      "The cost in the 28 th iteration is 0.883829\n",
      "The cost in the 29 th iteration is 0.863437\n",
      "The cost in the 30 th iteration is 0.844160\n",
      "The cost in the 31 th iteration is 0.825904\n",
      "The cost in the 32 th iteration is 0.808585\n",
      "The cost in the 33 th iteration is 0.792127\n",
      "The cost in the 34 th iteration is 0.776465\n",
      "The cost in the 35 th iteration is 0.761539\n",
      "The cost in the 36 th iteration is 0.747294\n",
      "The cost in the 37 th iteration is 0.733683\n",
      "The cost in the 38 th iteration is 0.720660\n",
      "The cost in the 39 th iteration is 0.708188\n",
      "The cost in the 40 th iteration is 0.696228\n",
      "The cost in the 41 th iteration is 0.684748\n",
      "The cost in the 42 th iteration is 0.673718\n",
      "The cost in the 43 th iteration is 0.663110\n",
      "The cost in the 44 th iteration is 0.652899\n",
      "The cost in the 45 th iteration is 0.643062\n",
      "The cost in the 46 th iteration is 0.633576\n",
      "The cost in the 47 th iteration is 0.624423\n",
      "The cost in the 48 th iteration is 0.615583\n",
      "The cost in the 49 th iteration is 0.607041\n"
     ]
    },
    {
     "ename": "TypeError",
     "evalue": "predict() missing 1 required positional argument: 'Y'",
     "output_type": "error",
     "traceback": [
      "\u001b[1;31m---------------------------------------------------------------------------\u001b[0m",
      "\u001b[1;31mTypeError\u001b[0m                                 Traceback (most recent call last)",
      "\u001b[1;32m<ipython-input-18-cca48eaaebc4>\u001b[0m in \u001b[0;36m<module>\u001b[1;34m\u001b[0m\n\u001b[0;32m     39\u001b[0m     \u001b[0mw\u001b[0m\u001b[1;33m,\u001b[0m\u001b[0mb\u001b[0m\u001b[1;33m=\u001b[0m\u001b[0minitializeParamWithZeros\u001b[0m\u001b[1;33m(\u001b[0m\u001b[0mdata_X\u001b[0m\u001b[1;33m.\u001b[0m\u001b[0mshape\u001b[0m\u001b[1;33m[\u001b[0m\u001b[1;36m0\u001b[0m\u001b[1;33m]\u001b[0m\u001b[1;33m)\u001b[0m\u001b[1;33m\u001b[0m\u001b[1;33m\u001b[0m\u001b[0m\n\u001b[0;32m     40\u001b[0m     \u001b[0mw\u001b[0m\u001b[1;33m,\u001b[0m\u001b[0mb\u001b[0m\u001b[1;33m,\u001b[0m\u001b[0mgradients\u001b[0m\u001b[1;33m,\u001b[0m\u001b[0mcosts\u001b[0m\u001b[1;33m=\u001b[0m\u001b[0mOptimize\u001b[0m\u001b[1;33m(\u001b[0m\u001b[0mw\u001b[0m\u001b[1;33m,\u001b[0m\u001b[0mb\u001b[0m\u001b[1;33m,\u001b[0m\u001b[0mdata_X\u001b[0m\u001b[1;33m,\u001b[0m\u001b[0mdata_label\u001b[0m\u001b[1;33m,\u001b[0m\u001b[0miters\u001b[0m\u001b[1;33m,\u001b[0m\u001b[0mlearning_rate\u001b[0m\u001b[1;33m)\u001b[0m\u001b[1;33m\u001b[0m\u001b[1;33m\u001b[0m\u001b[0m\n\u001b[1;32m---> 41\u001b[1;33m     \u001b[0mY_prediction\u001b[0m\u001b[1;33m=\u001b[0m\u001b[0mpredict\u001b[0m\u001b[1;33m(\u001b[0m\u001b[0mw\u001b[0m\u001b[1;33m,\u001b[0m\u001b[0mb\u001b[0m\u001b[1;33m,\u001b[0m\u001b[0mdata_X\u001b[0m\u001b[1;33m)\u001b[0m\u001b[1;33m\u001b[0m\u001b[1;33m\u001b[0m\u001b[0m\n\u001b[0m\u001b[0;32m     42\u001b[0m \u001b[1;33m\u001b[0m\u001b[0m\n",
      "\u001b[1;31mTypeError\u001b[0m: predict() missing 1 required positional argument: 'Y'"
     ]
    }
   ],
   "source": [
    "# 6完整实例\n",
    "import numpy as np\n",
    "import matplotlib.pyplot as plt\n",
    "if __name__==\"__main__\":\n",
    "    # X为横坐标，Y为纵坐标\n",
    "    X = [0, 1.5, 2, 2, 2.25, 2.8, 3.2, 4]\n",
    "    Y = [1.5, 3, 4, 3, 0.5, 2.8, 1.35, 4]\n",
    "    label = [1, 1, 1, 1, 0, 0, 0, 0]\n",
    "    label_color=['blue','red']\n",
    "    color=[]\n",
    "    for i in label:\n",
    "        if i==1:\n",
    "            color.append(label_color[0])\n",
    "        else:\n",
    "            color.append(label_color[1])\n",
    "    for i in range(len(X)):\n",
    "        plt.scatter(X[i], Y[i], c = color[i])\n",
    "    plt.title('Raw Data')\n",
    "    plt.show()\n",
    "    # 数据归一化\n",
    "    X = np.array(X)\n",
    "    Y = np.array(Y)\n",
    "    X = (X - np.average(X))\n",
    "    Y = (Y - np.average(Y))\n",
    "    X = X / X.max()\n",
    "    Y = Y / Y.max()\n",
    "    for i in range(len(X)):\n",
    "        plt.scatter(X[i], Y[i], c = color[i])\n",
    "    plt.title('Normalization Data')\n",
    "    plt.show()\n",
    "    data_X = np.vstack((X, Y))\n",
    "    data_label = np.array([label])\n",
    "    # 参数设置\n",
    "    w=[]\n",
    "    b=[]\n",
    "    Y_prediction=[]\n",
    "    iters=50\n",
    "    learning_rate=0.25\n",
    "    w,b=initializeParamWithZeros(data_X.shape[0])\n",
    "    w,b,gradients,costs=Optimize(w,b,data_X,data_label,iters,learning_rate)\n",
    "    Y_prediction=predict(w,b,data_X)\n",
    "    "
   ]
  },
  {
   "cell_type": "code",
   "execution_count": 19,
   "metadata": {},
   "outputs": [
    {
     "name": "stdout",
     "output_type": "stream",
     "text": [
      "Please enter a coordinates:\n",
      "0 0\n"
     ]
    },
    {
     "ename": "TypeError",
     "evalue": "predict() missing 1 required positional argument: 'Y'",
     "output_type": "error",
     "traceback": [
      "\u001b[1;31m---------------------------------------------------------------------------\u001b[0m",
      "\u001b[1;31mTypeError\u001b[0m                                 Traceback (most recent call last)",
      "\u001b[1;32m<ipython-input-19-a2e959e15ffc>\u001b[0m in \u001b[0;36m<module>\u001b[1;34m\u001b[0m\n\u001b[0;32m      5\u001b[0m \u001b[0my\u001b[0m \u001b[1;33m=\u001b[0m \u001b[0mint\u001b[0m\u001b[1;33m(\u001b[0m\u001b[0mpoint\u001b[0m\u001b[1;33m.\u001b[0m\u001b[0msplit\u001b[0m\u001b[1;33m(\u001b[0m\u001b[1;34m' '\u001b[0m\u001b[1;33m)\u001b[0m\u001b[1;33m[\u001b[0m\u001b[1;36m1\u001b[0m\u001b[1;33m]\u001b[0m\u001b[1;33m)\u001b[0m\u001b[1;33m\u001b[0m\u001b[1;33m\u001b[0m\u001b[0m\n\u001b[0;32m      6\u001b[0m \u001b[0mpoint_data\u001b[0m \u001b[1;33m=\u001b[0m \u001b[0mnp\u001b[0m\u001b[1;33m.\u001b[0m\u001b[0mvstack\u001b[0m\u001b[1;33m(\u001b[0m\u001b[1;33m(\u001b[0m\u001b[0mx\u001b[0m\u001b[1;33m,\u001b[0m\u001b[0my\u001b[0m\u001b[1;33m)\u001b[0m\u001b[1;33m)\u001b[0m\u001b[1;33m\u001b[0m\u001b[1;33m\u001b[0m\u001b[0m\n\u001b[1;32m----> 7\u001b[1;33m \u001b[0mpoint_prediction\u001b[0m \u001b[1;33m=\u001b[0m \u001b[0mpredict\u001b[0m\u001b[1;33m(\u001b[0m\u001b[0mw\u001b[0m\u001b[1;33m,\u001b[0m\u001b[0mb\u001b[0m\u001b[1;33m,\u001b[0m\u001b[0mpoint_data\u001b[0m\u001b[1;33m)\u001b[0m\u001b[1;33m\u001b[0m\u001b[1;33m\u001b[0m\u001b[0m\n\u001b[0m\u001b[0;32m      8\u001b[0m \u001b[0mprint\u001b[0m\u001b[1;33m(\u001b[0m\u001b[1;34m\"The point is below to\"\u001b[0m \u001b[1;33m,\u001b[0m\u001b[0mend\u001b[0m\u001b[1;33m=\u001b[0m\u001b[1;34m\" \"\u001b[0m\u001b[1;33m)\u001b[0m\u001b[1;33m\u001b[0m\u001b[1;33m\u001b[0m\u001b[0m\n\u001b[0;32m      9\u001b[0m \u001b[0mprint\u001b[0m\u001b[1;33m(\u001b[0m\u001b[0mpoint_prediction\u001b[0m\u001b[1;33m[\u001b[0m\u001b[1;36m0\u001b[0m\u001b[1;33m,\u001b[0m\u001b[1;36m0\u001b[0m\u001b[1;33m]\u001b[0m\u001b[1;33m)\u001b[0m\u001b[1;33m\u001b[0m\u001b[1;33m\u001b[0m\u001b[0m\n",
      "\u001b[1;31mTypeError\u001b[0m: predict() missing 1 required positional argument: 'Y'"
     ]
    }
   ],
   "source": [
    "#测试输入数据\n",
    "point = input(\"Please enter a coordinates:\\n\")\n",
    "#获取坐标\n",
    "x = int(point.split(' ')[0])\n",
    "y = int(point.split(' ')[1])\n",
    "point_data = np.vstack((x,y))\n",
    "point_prediction = predict(w,b,point_data)\n",
    "print(\"The point is below to\" ,end=\" \")\n",
    "print(point_prediction[0,0])\n"
   ]
  },
  {
   "cell_type": "code",
   "execution_count": null,
   "metadata": {},
   "outputs": [],
   "source": []
  },
  {
   "cell_type": "code",
   "execution_count": null,
   "metadata": {},
   "outputs": [],
   "source": []
  }
 ],
 "metadata": {
  "kernelspec": {
   "display_name": "Python 3",
   "language": "python",
   "name": "python3"
  },
  "language_info": {
   "codemirror_mode": {
    "name": "ipython",
    "version": 3
   },
   "file_extension": ".py",
   "mimetype": "text/x-python",
   "name": "python",
   "nbconvert_exporter": "python",
   "pygments_lexer": "ipython3",
   "version": "3.7.3"
  }
 },
 "nbformat": 4,
 "nbformat_minor": 2
}
